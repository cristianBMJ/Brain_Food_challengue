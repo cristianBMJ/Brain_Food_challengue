{
  "nbformat": 4,
  "nbformat_minor": 0,
  "metadata": {
    "colab": {
      "provenance": [],
      "authorship_tag": "ABX9TyMSXmct1+VGWKv3GRoqw7qr",
      "include_colab_link": true
    },
    "kernelspec": {
      "name": "python3",
      "display_name": "Python 3"
    },
    "language_info": {
      "name": "python"
    }
  },
  "cells": [
    {
      "cell_type": "markdown",
      "metadata": {
        "id": "view-in-github",
        "colab_type": "text"
      },
      "source": [
        "<a href=\"https://colab.research.google.com/github/cristianBMJ/Brain_Food_challengue/blob/main/proyeccion_demanda.ipynb\" target=\"_parent\"><img src=\"https://colab.research.google.com/assets/colab-badge.svg\" alt=\"Open In Colab\"/></a>"
      ]
    },
    {
      "cell_type": "markdown",
      "source": [
        "Plan de Trabajo:\n",
        "¿Cuál sería tu enfoque y plan de trabajo para abordar este desafío? ¿Qué tareas consideras\n",
        "esenciales para la ejecución de este proyecto? ¿Qué elementos específicos desarrollarías para\n",
        "resolver el problema planteado? Incluye una estimación del tiempo que dedicarías a cada fase y\n",
        "explique cómo tu solución impactaría positivamente en la situación actual de la empresa.\n",
        "Construcción del Modelo y Validación:\n",
        "1. Construya un modelo que permita proyectar la demanda y explique las validaciones que\n",
        "aplicarías para determinar su eficacia. Además, indique la ventana de tiempo que\n",
        "seleccionarías para la proyección y justifica tu elección.\n",
        "2. Generé un archivo CSV con las predicciones para el año 2024\n",
        "3. Describa cómo funcionaría este modelo en un entorno productivo, con todo lo que esto\n",
        "implica.\n",
        "Entregue un jupyter notebook con el desarrollo.\n",
        "Medición del Beneficio en $:\n",
        "Utilizando solo la información histórica proporcionada, ¿cómo propondrías medir el beneficio\n",
        "económico de tu solución? Detalla los métodos o métricas que emplearías para demostrar el valor\n",
        "generado para el cliente.\n",
        "Metodología para la Puesta en Producción:\n",
        "Diseña una metodología para asegurar que el modelo implementado en un entorno productivo\n",
        "genera beneficios para la empresa. Explica los pasos clave que seguirías para monitorear y\n",
        "mantener el rendimiento del modelo a lo largo del tiempo."
      ],
      "metadata": {
        "id": "1abGsBY6Bavy"
      }
    }
  ]
}